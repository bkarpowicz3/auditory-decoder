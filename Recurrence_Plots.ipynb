{
 "cells": [
  {
   "cell_type": "code",
   "execution_count": 1,
   "metadata": {},
   "outputs": [],
   "source": [
    "import scipy.io\n",
    "import glob\n",
    "import numpy as np\n",
    "import pandas as pd \n",
    "import pylab as plt"
   ]
  },
  {
   "cell_type": "code",
   "execution_count": 2,
   "metadata": {},
   "outputs": [],
   "source": [
    "all_files_A = glob.glob('E:\\Chris_Sample_Data\\Stimulus_A\\*.mat')\n",
    "all_files_B = glob.glob('E:\\Chris_Sample_Data\\Stimulus_B\\*.mat')"
   ]
  },
  {
   "cell_type": "code",
   "execution_count": 3,
   "metadata": {},
   "outputs": [],
   "source": [
    "def load_middle(file): \n",
    "    data = scipy.io.loadmat(file)\n",
    "    data = data['chunk']\n",
    "    print(data.shape)\n",
    "    \n",
    "    # take only middle 1/3 of data     \n",
    "    data = data[int(np.ceil(len(data)/3)) : int(len(data) - np.ceil(len(data)/3))]\n",
    "    print(data.shape)\n",
    "    df = pd.DataFrame(data)\n",
    "    df\n",
    "    return df"
   ]
  },
  {
   "cell_type": "markdown",
   "metadata": {},
   "source": [
    "## Use First PCA to Reduce Dimensionality"
   ]
  },
  {
   "cell_type": "code",
   "execution_count": 4,
   "metadata": {},
   "outputs": [],
   "source": [
    "def reduce_dimensions(df): \n",
    "    from sklearn.decomposition import PCA\n",
    "\n",
    "    pca = PCA(n_components=1)\n",
    "    pca.fit(df)\n",
    "    PCA(copy=True, n_components=1, whiten=False)\n",
    "    reduced = pca.transform(df)\n",
    "\n",
    "    return reduced"
   ]
  },
  {
   "cell_type": "code",
   "execution_count": 5,
   "metadata": {},
   "outputs": [],
   "source": [
    "def downsample_signal(sig):\n",
    "    from scipy import signal\n",
    "    \n",
    "    return signal.resample(sig, 5000)"
   ]
  },
  {
   "cell_type": "markdown",
   "metadata": {},
   "source": [
    "## Create Recurrence Plots "
   ]
  },
  {
   "cell_type": "code",
   "execution_count": 6,
   "metadata": {},
   "outputs": [],
   "source": [
    " def rec_plot(s, eps=None, steps=None):\n",
    "    if eps==None: eps=0.01\n",
    "    if steps==None: steps=10\n",
    "    N = s.size\n",
    "    S = np.repeat(s[None,:], N, axis=0).reshape((N,N))\n",
    "#     print(S.shape)\n",
    "    S_df = pd.DataFrame(S)\n",
    "    trans_df = S_df.transpose()\n",
    "    diff = S_df.subtract(trans_df, fill_value=0)\n",
    "    diff = diff.abs()\n",
    "    diff = diff/eps\n",
    "    Z = np.floor(diff)\n",
    "#     Z = np.floor(np.abs(S-S.T)/eps)\n",
    "    Z[Z>steps] = steps\n",
    " \n",
    "    return Z"
   ]
  },
  {
   "cell_type": "code",
   "execution_count": null,
   "metadata": {},
   "outputs": [
    {
     "name": "stdout",
     "output_type": "stream",
     "text": [
      "Creating plots for file 1...\n",
      "(97660, 16)\n",
      "(32552, 16)\n",
      "Creating plots for file 2...\n",
      "(81384, 16)\n",
      "(27128, 16)\n",
      "Creating plots for file 3...\n",
      "(97660, 16)\n",
      "(32552, 16)\n",
      "Creating plots for file 4...\n",
      "(97659, 16)\n",
      "(32553, 16)\n",
      "Creating plots for file 5...\n",
      "(97660, 16)\n",
      "(32552, 16)\n",
      "Creating plots for file 6...\n",
      "(97659, 16)\n",
      "(32553, 16)\n"
     ]
    }
   ],
   "source": [
    "counter = 1\n",
    "for file in all_files_A:\n",
    "    print('Creating plots for file ' + str(counter) + '...')\n",
    "    \n",
    "    r = rec_plot(reduce_dimensions(load_middle(file)))\n",
    "    \n",
    "    plt.figure(figsize=(10.0, 8.0))\n",
    "    plt.imshow(r, cmap = 'gray')\n",
    "    frame1 = plt.gca()\n",
    "    frame1.axes.xaxis.set_ticklabels([])\n",
    "    frame1.axes.yaxis.set_ticklabels([])\n",
    "    plt.savefig('E:\\Chris_Sample_Data\\Stimulus_A\\Images\\Recurrence\\\\recurrence_plot_A_' + str(counter) + '.png', papertype = 'letter')\n",
    "    \n",
    "    r_bool = r >= 1\n",
    "    r_bool = r_bool.values.astype(int)\n",
    "    r_bool\n",
    "    \n",
    "    plt.figure(figsize=(10.0, 8.0))\n",
    "    plt.imshow(r_bool, cmap = 'gray')\n",
    "    frame1 = plt.gca()\n",
    "    frame1.axes.xaxis.set_ticklabels([])\n",
    "    frame1.axes.yaxis.set_ticklabels([])\n",
    "    plt.savefig('E:\\Chris_Sample_Data\\Stimulus_A\\Images\\Recurrence_Simple\\\\simple_recurrence_A_' + str(counter) + '.png', papertype = 'letter')\n",
    "    \n",
    "    counter += 1"
   ]
  },
  {
   "cell_type": "code",
   "execution_count": null,
   "metadata": {},
   "outputs": [],
   "source": [
    "counter = 1\n",
    "for file in all_files_B:\n",
    "    print('Creating plots for file ' + str(counter) + '...')\n",
    "\n",
    "    r = rec_plot(reduce_dimensions(load_middle(file)))\n",
    "    \n",
    "    plt.imshow(r, cmap = 'gray')\n",
    "    plt.savefig('E:\\Chris_Sample_Data\\Stimulus_B\\Images\\Recurrence\\recurrence_plot_B_' + str(counter) + '.png')\n",
    "\n",
    "    \n",
    "    r_bool = r >= 1\n",
    "    r_bool = r_bool.values.astype(int)\n",
    "    r_bool\n",
    "    \n",
    "    plt.imshow(r_bool, cmap = 'gray')\n",
    "    plt.savefig('E:\\Chris_Sample_Data\\Stimulus_B\\Images\\Recurrence_Simple\\simple_recurrence_B_' + str(counter) + '.png')\n",
    "    \n",
    "    counter += 1"
   ]
  },
  {
   "cell_type": "code",
   "execution_count": 126,
   "metadata": {},
   "outputs": [
    {
     "data": {
      "text/plain": [
       "'E:\\\\Chris_Sample_Data\\\\Stimulus_A\\\\Images\\\\Recurrence\\\\recurrence_plot_A_1.png'"
      ]
     },
     "execution_count": 126,
     "metadata": {},
     "output_type": "execute_result"
    }
   ],
   "source": [
    "'E:\\Chris_Sample_Data\\Stimulus_A\\Images\\Recurrence\\\\recurrence_plot_A_' + str(counter) + '.png'"
   ]
  },
  {
   "cell_type": "code",
   "execution_count": null,
   "metadata": {},
   "outputs": [],
   "source": []
  }
 ],
 "metadata": {
  "kernelspec": {
   "display_name": "Python 3",
   "language": "python",
   "name": "python3"
  },
  "language_info": {
   "codemirror_mode": {
    "name": "ipython",
    "version": 3
   },
   "file_extension": ".py",
   "mimetype": "text/x-python",
   "name": "python",
   "nbconvert_exporter": "python",
   "pygments_lexer": "ipython3",
   "version": "3.6.5"
  }
 },
 "nbformat": 4,
 "nbformat_minor": 2
}
